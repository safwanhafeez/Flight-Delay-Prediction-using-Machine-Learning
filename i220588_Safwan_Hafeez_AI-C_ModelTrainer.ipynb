{
 "cells": [
  {
   "cell_type": "code",
   "execution_count": null,
   "metadata": {},
   "outputs": [],
   "source": [
    "from sklearn.preprocessing import StandardScaler, OneHotEncoder, label_binarize\n",
    "from sklearn.model_selection import train_test_split, cross_val_score, RandomizedSearchCV, GridSearchCV\n",
    "from sklearn.ensemble import RandomForestClassifier, RandomForestRegressor\n",
    "from sklearn.metrics import accuracy_score, precision_recall_curve, f1_score, confusion_matrix, classification_report, mean_absolute_error, mean_squared_error, make_scorer\n",
    "from sklearn.utils import resample\n",
    "from sklearn.model_selection import train_test_split, GridSearchCV\n",
    "from sklearn.metrics import classification_report, accuracy_score\n",
    "from sklearn.linear_model import LogisticRegression\n",
    "from sklearn.ensemble import RandomForestClassifier, GradientBoostingClassifier\n",
    "from sklearn.svm import SVC\n",
    "from sklearn.neighbors import KNeighborsClassifier\n",
    "from sklearn.tree import DecisionTreeClassifier\n",
    "from sklearn.naive_bayes import GaussianNB\n",
    "from scipy.stats import randint\n",
    "from sklearn.svm import SVC\n",
    "import numpy as np\n",
    "import pandas as pd\n",
    "import matplotlib.pyplot as plt\n",
    "import seaborn as sns\n",
    "from docx import Document\n",
    "import json\n",
    "import os"
   ]
  },
  {
   "cell_type": "code",
   "execution_count": null,
   "metadata": {},
   "outputs": [],
   "source": [
    "df = pd.read_csv('Data/trainer2.csv')\n",
    "\n",
    "df['delayed'] = df['departure.delay'].apply(lambda x: 1 if x > 0 else 0)\n",
    "correlColumns = [\n",
    "    'Temperature (°F) Max', 'flight.number',\n",
    "\t'Temperature (°F) Avg', 'Temperature (°F) Min', \n",
    "    'Dew Point (°F) Max', 'Dew Point (°F) Avg', 'Dew Point (°F) Min', 'Humidity (%) Max', \n",
    "    'Humidity (%) Avg', 'Humidity (%) Min', 'Wind Speed (mph) Max', 'Wind Speed (mph) Avg', \n",
    "    'Wind Speed (mph) Min', 'Pressure (in) Max', 'Pressure (in) Avg', 'Pressure (in) Min',\n",
    "    'hour', 'day', 'month', 'year'\n",
    "]\n",
    "categorical = ['type', 'status', 'departure.iataCode', 'departure.icaoCode', 'arrival.iataCode', 'arrival.icaoCode']\n",
    "\n",
    "encoder = OneHotEncoder(drop = 'first', handle_unknown = 'ignore', sparse_output = False)\n",
    "encodedTrain = encoder.fit_transform(df[categorical])\n",
    "encData = pd.DataFrame(encodedTrain, columns=encoder.get_feature_names_out(categorical))\n",
    "\n",
    "df = df.drop(columns=categorical)\n",
    "finalData = pd.concat([df[correlColumns + ['delayed']], encData], axis=1)\n",
    "finalData = finalData.dropna(subset=['delayed'])\n",
    "\n",
    "class0 = finalData[finalData['delayed'] == 0]\n",
    "class1 = finalData[finalData['delayed'] == 1]\n",
    "mapping = resample(class1, replace = True, n_samples = len(class0), random_state = 42)\n",
    "\n",
    "balanced = pd.concat([class0, mapping])\n",
    "balanced = balanced.sample(frac=1, random_state=42).reset_index(drop=True)\n",
    "\n",
    "y = balanced['delayed']\n",
    "X = balanced.drop(columns=['delayed'])\n",
    "\n",
    "X_train, X_test, y_train, y_test = train_test_split(X, y, test_size=0.2, random_state=42)"
   ]
  },
  {
   "cell_type": "code",
   "execution_count": null,
   "metadata": {},
   "outputs": [],
   "source": [
    "models = {\n",
    "    'Logistic Regression': LogisticRegression(max_iter=1000),\n",
    "    'Random Forest': RandomForestClassifier(n_estimators=100),\n",
    "    'SVM': SVC(),\n",
    "    'KNN': KNeighborsClassifier(n_neighbors=5),\n",
    "    'Gradient Boosting': GradientBoostingClassifier(),\n",
    "    'Decision Tree': DecisionTreeClassifier(),\n",
    "    'Naive Bayes': GaussianNB()\n",
    "}\n",
    "\n",
    "for name, model in models.items():\n",
    "    model.fit(X_train, y_train)\n",
    "    y_pred = model.predict(X_test)\n",
    "    print(f\"Model: {name}\")\n",
    "    print(classification_report(y_test, y_pred))\n",
    "\n",
    "param_grid = {'C': [0.1, 1, 10], 'kernel': ['linear', 'rbf']}\n",
    "grid_search = GridSearchCV(SVC(), param_grid, cv=5, scoring='accuracy')\n",
    "grid_search.fit(X_train, y_train)\n",
    "print(\"Best Params:\", grid_search.best_params_)"
   ]
  }
 ],
 "metadata": {
  "kernelspec": {
   "display_name": "Python 3",
   "language": "python",
   "name": "python3"
  },
  "language_info": {
   "codemirror_mode": {
    "name": "ipython",
    "version": 3
   },
   "file_extension": ".py",
   "mimetype": "text/x-python",
   "name": "python",
   "nbconvert_exporter": "python",
   "pygments_lexer": "ipython3",
   "version": "3.11.9"
  }
 },
 "nbformat": 4,
 "nbformat_minor": 2
}
